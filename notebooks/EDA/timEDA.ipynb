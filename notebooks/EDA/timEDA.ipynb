{
 "cells": [
  {
   "cell_type": "code",
   "execution_count": 1,
   "metadata": {},
   "outputs": [],
   "source": [
    "import numpy as np\n",
    "import os\n",
    "import keras\n",
    "from keras.preprocessing import image"
   ]
  },
  {
   "cell_type": "markdown",
   "metadata": {},
   "source": [
    "### Load Train Data From the Current Directory"
   ]
  },
  {
   "cell_type": "code",
   "execution_count": 2,
   "metadata": {},
   "outputs": [],
   "source": [
    "# Get current working directory\n",
    "PATH = os.getcwd() + '/../../src/data/chest_xray/'\n",
    "\n",
    "\n",
    "# importing training normal data\n",
    "norm_train_path = PATH+'train/NORMAL/'\n",
    "norm_train_batch = os.listdir(norm_train_path) \n",
    "\n",
    "norm_train = []\n",
    "norm_errors = []\n",
    "for image_name in (norm_train_batch): \n",
    "    img_path = norm_train_path + image_name \n",
    "    try:\n",
    "        x = image.load_img(img_path) \n",
    "        # preprocessing if required \n",
    "        norm_train.append(x) \n",
    "    except:\n",
    "        norm_errors.append(image_name)\n",
    "    \n",
    "    \n",
    "# importing training pnuemonia data\n",
    "pnue_train_path = PATH + 'train/PNEUMONIA/'\n",
    "pnue_train_batch = os.listdir(pnue_train_path)\n",
    "\n",
    "pnue_train = []\n",
    "pnue_errors = []\n",
    "for image_name in pnue_train_batch:\n",
    "    img_path = pnue_train_path + image_name\n",
    "    try:\n",
    "        x = image.load_img(img_path)\n",
    "        pnue_train.append(x)\n",
    "    except:\n",
    "        pnue_errors.append(image_name)\n",
    "    \n"
   ]
  },
  {
   "cell_type": "code",
   "execution_count": 9,
   "metadata": {},
   "outputs": [
    {
     "data": {
      "text/plain": [
       "(3875, 3875)"
      ]
     },
     "execution_count": 9,
     "metadata": {},
     "output_type": "execute_result"
    }
   ],
   "source": [
    "len(pnue_train_batch), len(pnue_train)"
   ]
  },
  {
   "cell_type": "code",
   "execution_count": 4,
   "metadata": {},
   "outputs": [
    {
     "data": {
      "text/plain": [
       "'/Users/TjH/Flatiron/phase-4-project/Pnuemonia-image-classification/notebooks/EDA'"
      ]
     },
     "execution_count": 4,
     "metadata": {},
     "output_type": "execute_result"
    }
   ],
   "source": [
    "os.getcwd()"
   ]
  },
  {
   "cell_type": "code",
   "execution_count": null,
   "metadata": {},
   "outputs": [],
   "source": []
  }
 ],
 "metadata": {
  "kernelspec": {
   "display_name": "Python 3",
   "language": "python",
   "name": "python3"
  },
  "language_info": {
   "codemirror_mode": {
    "name": "ipython",
    "version": 3
   },
   "file_extension": ".py",
   "mimetype": "text/x-python",
   "name": "python",
   "nbconvert_exporter": "python",
   "pygments_lexer": "ipython3",
   "version": "3.6.9"
  }
 },
 "nbformat": 4,
 "nbformat_minor": 4
}
