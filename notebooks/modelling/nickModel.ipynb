{
 "metadata": {
  "language_info": {
   "codemirror_mode": {
    "name": "ipython",
    "version": 3
   },
   "file_extension": ".py",
   "mimetype": "text/x-python",
   "name": "python",
   "nbconvert_exporter": "python",
   "pygments_lexer": "ipython3",
   "version": "3.6.9-final"
  },
  "orig_nbformat": 2,
  "kernelspec": {
   "name": "python3",
   "display_name": "Python 3"
  }
 },
 "nbformat": 4,
 "nbformat_minor": 2,
 "cells": [
  {
   "source": [
    "## Importing Libraries and Functions"
   ],
   "cell_type": "markdown",
   "metadata": {}
  },
  {
   "cell_type": "code",
   "execution_count": 8,
   "metadata": {},
   "outputs": [],
   "source": [
    "import keras\n",
    "import tensorflow as tf\n",
    "from keras.models import Sequential, Model\n",
    "from keras.layers import Dense, Dropout\n",
    "from keras.optimizers import Adam, SGD\n",
    "from keras import models\n",
    "from keras import layers\n",
    "from tensorflow.keras.preprocessing import image\n",
    "from tensorflow.keras.preprocessing.image import img_to_array, array_to_img\n",
    "from tensorflow.image import rgb_to_grayscale\n",
    "from tensorflow import reshape\n",
    "from tensorflow.image import resize_with_pad\n",
    "from tensorflow.keras.applications.vgg16 import VGG16\n",
    "from tensorflow.keras.applications.densenet import DenseNet121, preprocess_input\n",
    "from tensorflow.keras.applications import MobileNetV2\n",
    "from sklearn.metrics import confusion_matrix\n",
    "from sklearn.metrics import roc_curve, auc\n",
    "import matplotlib.pyplot as plt \n",
    "import seaborn as sns\n",
    "import os\n",
    "import numpy as np\n",
    "from imgaug import augmenters as iaa\n",
    "import imgaug as ia\n",
    "\n",
    "%matplotlib inline"
   ]
  },
  {
   "cell_type": "code",
   "execution_count": 14,
   "metadata": {},
   "outputs": [],
   "source": [
    "sys.path[0] = '/Users/nicksubic/Documents/flatiron/phase_1/nyc-mhtn-ds-091420-lectures/Phase_4/chest_xray/Pnuemonia-image-classification/src/modules/'\n",
    "import graphs"
   ]
  },
  {
   "source": [
    "## Importing the Data"
   ],
   "cell_type": "markdown",
   "metadata": {}
  },
  {
   "cell_type": "code",
   "execution_count": 2,
   "metadata": {},
   "outputs": [],
   "source": [
    "def import_image(PATH, image_name):\n",
    "    \"\"\"\n",
    "    PATH --> str: Relative path to image directoy\n",
    "    image_name --> str: Name of the image to load\n",
    "    Returns:\n",
    "    PIL image\n",
    "    \"\"\"\n",
    "    # create path to file\n",
    "    img_path = PATH + \"/\" + image_name\n",
    "    # load file and return pil\n",
    "    return image.load_img(img_path) \n",
    "\n",
    "def grayscale_and_resize(PIL, shape=(256,256), padding=False, grayscale=True):\n",
    "    \"\"\"\n",
    "    This is the preprocessing function that will take the raw jpeg, gray scale it, resize it and \n",
    "    turn it into an array\n",
    "    PIL --> PIL object\n",
    "    shape --> tuple: size of the final array\n",
    "    padding --> bool: if True, will use tf.resize_with_pad\n",
    "    \"\"\"\n",
    "    if padding:\n",
    "        gray_image = rgb_to_grayscale(PIL)\n",
    "        resized_image_arr = resize_with_pad(gray_image, target_height=shape[0], target_width=shape[1])\n",
    "    else:\n",
    "        if grayscale:\n",
    "            resized_image_arr = img_to_array(PIL.convert(mode = 'L').resize(shape))\n",
    "        else:\n",
    "            resized_image_arr = img_to_array(PIL.resize(shape))\n",
    "    return resized_image_arr\n",
    "\n",
    "def import_image_to_array(\n",
    "         RELPATH,\n",
    "         dir_names = ['train', 'test', 'val'],\n",
    "         sub_dir_names = ['NORMAL', 'PNEUMONIA'],\n",
    "         padding=False,\n",
    "         shape=(256,256),\n",
    "         grayscale=True,\n",
    "         test=False\n",
    "):\n",
    "    \"\"\"\n",
    "    This function loads all train, test and validation data into a dictionary of images\n",
    "    Padding currently only returns a grayscale image.\n",
    "    =====================================================================================\n",
    "    RELPATH --> str: The relative path to the cwd to the directory containing image directories\n",
    "    eg '../../src/data/chest_xray'\n",
    "    =====================================================================================\n",
    "    dir_names --> list, str: The names of the subdirectories containing the images\n",
    "    eg ['train', 'test', 'val'] <-- default\n",
    "    =====================================================================================\n",
    "    sub_dir_names --> list -> str: names of the subdirectory containg postivie and negative cases\n",
    "    eg ['NORMAL', 'PNEUMONIA'] <-- default\n",
    "    =====================================================================================\n",
    "    padding  --> bool: Whether you want the reshaping to be padded or not\n",
    "    =====================================================================================\n",
    "    shape --> tuple-> int: The final shape of the tensor array\n",
    "    =====================================================================================  \n",
    "    grayscale --> Bool: if True, images will be reduced to grayscale (x,x,1) else (x,x,3)\n",
    "    returns\n",
    "    dict --> str:list -> tuple -> (tf.array, bool)\n",
    "    A dictionary where the keys are the dir_names and the values are lists containing tuple where \n",
    "    the first index is the tf.array and the second is a boolian, True if class is pnuemonia, false otherwise.\n",
    "    \"\"\"\n",
    "    # test relative path works!! \n",
    "    PATH = os.getcwd() + RELPATH\n",
    "    try:\n",
    "        os.listdir(PATH)\n",
    "        print(\"You're relative directory is good, proceeding to import files...\", end=\"\\n\\n\")\n",
    "    except Exception as e:\n",
    "        print(str(e))\n",
    "        print(f\"Your relative path directory is not pointing to the correct location. Double check your input \\n\")\n",
    "        print(\"Terminating Program\", end='\\n')\n",
    "        print(\"=======================================================================================\")\n",
    "        return False\n",
    "    # instantiate a dict object and populate the keys\n",
    "    image_dict = {}\n",
    "    for name in dir_names:\n",
    "        image_dict[name] = []\n",
    "        print(f\"Loading images from {name}\", end='\\n')\n",
    "        # For each subdirectory, get all of the images and append to dictionary\n",
    "        for sub_dir in sub_dir_names:\n",
    "            subPATH = PATH + name + \"/\" + sub_dir\n",
    "            # list of all image names in the subdirectory\n",
    "            image_batch = os.listdir(subPATH)\n",
    "            for image in image_batch:\n",
    "                # import the image in pil format\n",
    "                pil = import_image(subPATH, image)\n",
    "                # gray scale and reshape the image turning it into an array\n",
    "                gray_resized_pil = grayscale_and_resize(pil, shape=shape, padding=padding, grayscale=grayscale)\n",
    "                # center the pixels\n",
    "                centered_array = gray_resized_pil/255\n",
    "                # append to the image_dict with class flag\n",
    "                flag = 1\n",
    "                if sub_dir == 'NORMAL':\n",
    "                     flag = 0\n",
    "                image_dict[name].append((image, centered_array, flag))\n",
    "                # if this is just a test case, break out of this loop so we get one from each class\n",
    "                if test == True:\n",
    "                    break\n",
    "            print(f\"Finished loading images from {sub_dir}\", end=\"\\n\")\n",
    "        print()\n",
    "    return image_dict"
   ]
  },
  {
   "cell_type": "code",
   "execution_count": 3,
   "metadata": {},
   "outputs": [
    {
     "output_type": "stream",
     "name": "stdout",
     "text": [
      "You're relative directory is good, proceeding to import files...\n",
      "\n",
      "Loading images from train\n",
      "Finished loading images from NORMAL\n",
      "Finished loading images from PNEUMONIA\n",
      "\n",
      "Loading images from test\n",
      "Finished loading images from NORMAL\n",
      "Finished loading images from PNEUMONIA\n",
      "\n",
      "Loading images from val\n",
      "Finished loading images from NORMAL\n",
      "Finished loading images from PNEUMONIA\n",
      "\n"
     ]
    }
   ],
   "source": [
    "images = import_image_to_array('/../../../chest_xray/',\n",
    "         dir_names = ['train', 'test', 'val'],\n",
    "         sub_dir_names = ['NORMAL', 'PNEUMONIA'],\n",
    "         padding=False,\n",
    "         shape=(224,224), test=False, grayscale = False)"
   ]
  },
  {
   "source": [
    "### Splitting the train, test and validation data into just image arrays for modeling"
   ],
   "cell_type": "markdown",
   "metadata": {}
  },
  {
   "cell_type": "code",
   "execution_count": 4,
   "metadata": {},
   "outputs": [],
   "source": [
    "X_train = np.array([i[1] for i in images['train']])  \n",
    "y_train = np.array([i[2] for i in images['train']])\n",
    "\n",
    "X_test = np.array([i[1] for i in images['test']])\n",
    "y_test = np.array([i[2] for i in images['test']])\n",
    "\n",
    "X_val = np.array([i[1] for i in images['val']])\n",
    "y_val = np.array([i[2] for i in images['val']])"
   ]
  },
  {
   "source": [
    "### Creating an image augmentation function to boost our minority class- patients without pneumonia"
   ],
   "cell_type": "markdown",
   "metadata": {}
  },
  {
   "cell_type": "code",
   "execution_count": 5,
   "metadata": {},
   "outputs": [],
   "source": [
    "def augment_images(array_of_images):\n",
    "    '''Takes in an array of images converted to numpy arrays and returns an array of randomly rotated,\n",
    "       rescaled and sheared images'''\n",
    "    seq = iaa.Sequential([\n",
    "        iaa.Affine(\n",
    "        scale={\"x\": (0.8, 1.2), \"y\": (0.8, 1.2)},\n",
    "        translate_percent={\"x\": (0, 0.2), \"y\": (-.075, 0.075)},\n",
    "        rotate=(-20, 25),\n",
    "        shear=(-8, 8))\n",
    "        ], random_order=True)\n",
    "    return seq(images = array_of_images)"
   ]
  },
  {
   "cell_type": "code",
   "execution_count": 6,
   "metadata": {},
   "outputs": [],
   "source": [
    "aug_array = images['train'][0:1340]\n",
    "#selecting just the healthy images to augment in order to reduce our 1:3 class imbalance\n",
    "\n",
    "aug_array = np.array([i[1] for i in aug_array])\n",
    "#selecting just time image data and dropping names and class\n",
    "\n",
    "augmented_images = (augment_images(aug_array))\n",
    "#augmenting with the above function"
   ]
  },
  {
   "cell_type": "code",
   "execution_count": 9,
   "metadata": {},
   "outputs": [
    {
     "output_type": "execute_result",
     "data": {
      "text/plain": [
       "<PIL.Image.Image image mode=RGB size=224x224 at 0x7F895614B3C8>"
      ],
      "image/png": "[encoded data removed]"
     },
     "metadata": {},
     "execution_count": 9
    }
   ],
   "source": [
    "array_to_img(augmented_images[7])\n",
    "#testing one image"
   ]
  },
  {
   "cell_type": "code",
   "execution_count": 10,
   "metadata": {},
   "outputs": [
    {
     "output_type": "stream",
     "name": "stdout",
     "text": [
      "5216\n5216\n"
     ]
    }
   ],
   "source": [
    "print(len(X_train))\n",
    "print(len(y_train))"
   ]
  },
  {
   "source": [
    "### Concatenating the augmented images with the training set in order to offset the class imbalance"
   ],
   "cell_type": "markdown",
   "metadata": {}
  },
  {
   "cell_type": "code",
   "execution_count": 11,
   "metadata": {},
   "outputs": [],
   "source": [
    "X_train = np.concatenate([X_train, augmented_images], axis = 0)\n",
    "y_train = np.concatenate([y_train, [0 for i in augmented_images]], axis = 0)"
   ]
  },
  {
   "cell_type": "code",
   "execution_count": 12,
   "metadata": {},
   "outputs": [
    {
     "output_type": "stream",
     "name": "stdout",
     "text": [
      "6556\n6556\n"
     ]
    }
   ],
   "source": [
    "print(len(X_train))\n",
    "print(len(y_train))"
   ]
  },
  {
   "cell_type": "code",
   "execution_count": 13,
   "metadata": {},
   "outputs": [
    {
     "output_type": "execute_result",
     "data": {
      "text/plain": [
       "(6556, 224, 224, 3)"
      ]
     },
     "metadata": {},
     "execution_count": 13
    }
   ],
   "source": [
    "X_train.shape"
   ]
  },
  {
   "source": [
    "### Creating a simple baseline CNN model with 2 Convolution layers, 1 densely connected and no regularization"
   ],
   "cell_type": "markdown",
   "metadata": {}
  },
  {
   "cell_type": "code",
   "execution_count": 20,
   "metadata": {},
   "outputs": [],
   "source": [
    "#baseline model- two convolution layers, maxpooling, one 32 node dense layer and the output\n",
    "\n",
    "cnn = models.Sequential()\n",
    "\n",
    "# Input convolution layer\n",
    "cnn.add(layers.Conv2D(64, kernel_size= (3, 3), activation='relu', input_shape=(224, 224,  3)))\n",
    "\n",
    "# Max pooling layer\n",
    "cnn.add(layers.MaxPooling2D((2, 2)))\n",
    "\n",
    "# Hidden convolution layer and pool\n",
    "cnn.add(layers.Conv2D(32, kernel_size= (3, 3), activation='relu'))\n",
    "cnn.add(layers.MaxPooling2D((2, 2)))\n",
    "\n",
    "# Flatten layer\n",
    "cnn.add(layers.Flatten())\n",
    "cnn.add(layers.Dense(32, activation='relu'))\n",
    "\n",
    "# Output\n",
    "cnn.add(layers.Dense(1, activation='sigmoid'))\n",
    "\n",
    "# Compiling with stochastic gradient descent, optimized for accuracy\n",
    "cnn.compile(loss='binary_crossentropy',\n",
    "              optimizer=\"sgd\",\n",
    "              metrics=['acc'])"
   ]
  },
  {
   "cell_type": "code",
   "execution_count": 21,
   "metadata": {},
   "outputs": [
    {
     "output_type": "stream",
     "name": "stdout",
     "text": [
      "Epoch 1/5\n",
      "132/132 [==============================] - 178s 1s/step - loss: 0.5541 - acc: 0.7392 - val_loss: 1.2060 - val_acc: 0.5000\n",
      "Epoch 2/5\n",
      "132/132 [==============================] - 170s 1s/step - loss: 0.3797 - acc: 0.8336 - val_loss: 0.9682 - val_acc: 0.5625\n",
      "Epoch 3/5\n",
      "132/132 [==============================] - 172s 1s/step - loss: 0.2880 - acc: 0.8832 - val_loss: 0.7182 - val_acc: 0.8125\n",
      "Epoch 4/5\n",
      "132/132 [==============================] - 169s 1s/step - loss: 0.2440 - acc: 0.9022 - val_loss: 0.3753 - val_acc: 0.8750\n",
      "Epoch 5/5\n",
      "132/132 [==============================] - 169s 1s/step - loss: 0.2105 - acc: 0.9141 - val_loss: 0.4035 - val_acc: 0.7500\n"
     ]
    }
   ],
   "source": [
    "cnn1 = cnn.fit(X_train,\n",
    "                    y_train,\n",
    "                    epochs=5,\n",
    "                    batch_size=50,\n",
    "                    validation_data=(X_val, y_val))"
   ]
  },
  {
   "cell_type": "code",
   "execution_count": 22,
   "metadata": {},
   "outputs": [
    {
     "output_type": "stream",
     "name": "stdout",
     "text": [
      "20/20 [==============================] - 4s 191ms/step - loss: 0.5064 - acc: 0.7821\n"
     ]
    }
   ],
   "source": [
    "results_test = cnn.evaluate(X_test, y_test)"
   ]
  },
  {
   "cell_type": "code",
   "execution_count": null,
   "metadata": {},
   "outputs": [],
   "source": [
    "# Confusion Matrix functions\n",
    "def get_labels(fit_model, X, threshold):\n",
    "    return [1 if x >= threshold else 0 for x in fit_model.predict(X)]\n",
    "def get_false_positive(true, prediction):\n",
    "    return [1 if (x == 0 and y == 1) else 0 for x,y in zip(true,prediction)]\n",
    "def get_true_positive(true, prediction):\n",
    "    return [1 if (x == 1 and y == 1) else 0 for x,y in zip(true,prediction)]\n",
    "def get_false_negative(true, prediction):\n",
    "    return [1 if (x == 1 and y == 0) else 0 for x,y in zip(true,prediction)]"
   ]
  },
  {
   "cell_type": "code",
   "execution_count": null,
   "metadata": {},
   "outputs": [],
   "source": [
    "# Generating a confusion matrix from the model predictions\n",
    "\n",
    "predictions = get_labels(cnn, X_test, 0.5)\n",
    "graphs.plot_cmatrix(y_test, predictions)"
   ]
  },
  {
   "source": [
    "Not bad for a baseline model, but we think we can improve a lot on this model."
   ],
   "cell_type": "markdown",
   "metadata": {}
  },
  {
   "source": [
    "## Creating a more optimized model\n",
    "\n",
    "#### Next, we created a much more complex model. We expanded our metrics from just Accuracy to adding AUC and Recall. We changed our optimizer to Adam in order to reduce improve our learning rate. We created overlaps in our pools, added regularization layers and increased the number of graduated dense layers. We also calculated the inverse class frequency to further compensate for our class imbalance."
   ],
   "cell_type": "markdown",
   "metadata": {}
  },
  {
   "cell_type": "code",
   "execution_count": 23,
   "metadata": {},
   "outputs": [],
   "source": [
    "# calculate inverse \n",
    "pnue_frequency = sum(y_train)/len(y_train)\n",
    "inv_pnue_frequency = 1/pnue_frequency\n",
    "normal_frequency = (len(y_train)-sum(y_train))/len(y_train)\n",
    "inv_normal_frequency = 1/normal_frequency\n",
    "weights = {\n",
    "    0: inv_normal_frequency,\n",
    "    1: inv_pnue_frequency\n",
    "    }"
   ]
  },
  {
   "cell_type": "code",
   "execution_count": null,
   "metadata": {},
   "outputs": [],
   "source": [
    "np.random.seed(42)\n",
    "\n",
    "# Setting an early stop feature\n",
    "callback = tf.keras.callbacks.EarlyStopping(monitor='loss', patience=3)\n",
    "\n",
    "cnn2 = models.Sequential()\n",
    "# Input convolution layers\n",
    "cnn2.add(layers.Conv2D(64, (3, 3), activation='relu', input_shape=(224, 224,  3)))\n",
    "cnn2.add(layers.Conv2D(64, (3, 3), activation='relu'))\n",
    "\n",
    "# Overlapped pooling\n",
    "cnn2.add(layers.MaxPooling2D((2, 3)))\n",
    "\n",
    "# First hidden convolution layers and pool\n",
    "cnn2.add(layers.Conv2D(32, (3, 3), activation='relu'))\n",
    "cnn2.add(layers.Conv2D(32, (3, 3), activation='relu'))\n",
    "cnn2.add(layers.MaxPooling2D((2, 3)))\n",
    "\n",
    "# Second hidden convolution layers and pools\n",
    "cnn2.add(layers.Conv2D(16, (6, 6), activation='relu'))\n",
    "cnn2.add(layers.MaxPooling2D((2, 3)))\n",
    "\n",
    "cnn2.add(layers.Conv2D(16, (3, 3), activation='relu'))\n",
    "cnn2.add(layers.MaxPooling2D((2, 3)))\n",
    "\n",
    "# Flatten layer\n",
    "cnn2.add(layers.Flatten())\n",
    "\n",
    "# 3 Graduated densely connected layers with graduated regularization\n",
    "cnn2.add(layers.Dense(64, activation='relu'))\n",
    "cnn2.add(layers.Dropout(.5))\n",
    "cnn2.add(layers.Dense(32, activation='relu'))\n",
    "cnn2.add(layers.Dropout(.3))\n",
    "cnn2.add(layers.Dense(16, activation='relu'))\n",
    "cnn2.add(layers.Dropout(.1))\n",
    "\n",
    "# Output layer\n",
    "cnn2.add(layers.Dense(1, activation='sigmoid'))\n",
    "cnn2.compile(loss='binary_crossentropy',\n",
    "              optimizer= 'Adam',\n",
    "              metrics=['acc', 'Recall', 'AUC'])\n",
    "\n",
    "# Fitting the model with our additional class weight parameter\n",
    "cnn3 = cnn2.fit(X_train, y_train,\n",
    "               epochs=10,\n",
    "               batch_size=50,\n",
    "               validation_data = (X_val, y_val), \n",
    "               class_weight=weights,\n",
    "               verbose=True,\n",
    "               callbacks = callback)"
   ]
  },
  {
   "cell_type": "code",
   "execution_count": null,
   "metadata": {},
   "outputs": [],
   "source": [
    "results_test2 = cnn2.evaluate(X_test, y_test)"
   ]
  },
  {
   "cell_type": "code",
   "execution_count": null,
   "metadata": {},
   "outputs": [],
   "source": [
    "# Plotting the progress by epoch\n",
    "\n",
    "graphs.plot_loss(cnn3.history)"
   ]
  },
  {
   "cell_type": "code",
   "execution_count": null,
   "metadata": {},
   "outputs": [],
   "source": [
    "# Generating a confusion matrix from the model predictions\n",
    "\n",
    "predictions = get_labels(cnn2, X_test, 0.5)\n",
    "graphs.plot_cmatrix(y_test, predictions)"
   ]
  },
  {
   "source": [
    "## Transfer Learning"
   ],
   "cell_type": "markdown",
   "metadata": {}
  },
  {
   "source": [
    "Though our initial results are looking good, we decided to bring in some pre-trained models and try to use them in conjuction- both to get ideas about the architecture that could work the best for us and to possibly use a voting classifier to combine a variety of models for the best possible result."
   ],
   "cell_type": "markdown",
   "metadata": {}
  },
  {
   "source": [
    "### VGG16"
   ],
   "cell_type": "markdown",
   "metadata": {}
  },
  {
   "cell_type": "code",
   "execution_count": null,
   "metadata": {},
   "outputs": [],
   "source": [
    "VGG16_model = VGG16(input_shape = (224, 224, 3), \n",
    "                    # Shape of our images\n",
    "                    include_top = False, \n",
    "                    # Leave out the last fully connected layer\n",
    "                    weights = 'imagenet')\n",
    "\n",
    "for layer in base_model.layers:\n",
    "    layer.trainable = False\n",
    "#making the existing layers untrainable in order to preserve them\n",
    "\n",
    "# Flatten the output layer to 1 dimension\n",
    "x = layers.Flatten()(VGG16_model.output)\n",
    "\n",
    "# Add a fully connected layer with 512 hidden units and ReLU activation\n",
    "x = layers.Dense(512, activation='relu')(x)\n",
    "\n",
    "# Add a dropout rate of 0.5\n",
    "x = layers.Dropout(0.5)(x)\n",
    "\n",
    "# Add a second fully connected layer with 256 hidden units and ReLU activation\n",
    "x = layers.Dense(256, activation='relu')(x)\n",
    "\n",
    "# Dropout with a rate of 0.3\n",
    "x = layers.Dropout(.3)(x)\n",
    "\n",
    "# Add a final sigmoid layer for classification\n",
    "x = layers.Dense(1, activation='sigmoid')(x)\n",
    "\n",
    "vggmodel = tf.keras.models.Model(VGG16_model.input, x)\n",
    "\n",
    "vggmodel.compile(optimizer = 'Adam', \n",
    "              loss = 'binary_crossentropy',\n",
    "              metrics = ['acc', 'Recall', 'AUC'])\n",
    "\n",
    "vgghist = vggmodel.fit(X_train, y_train, \n",
    "                       validation_data = (X_val, y_val), \n",
    "                       epochs = 25, \n",
    "                       batch_size=25, \n",
    "                       class_weight=weights, \n",
    "                       callbacks= callback)"
   ]
  },
  {
   "cell_type": "code",
   "execution_count": null,
   "metadata": {},
   "outputs": [],
   "source": [
    "results_test3 = vggmodel.evaluate(X_test, y_test)"
   ]
  },
  {
   "cell_type": "code",
   "execution_count": null,
   "metadata": {},
   "outputs": [],
   "source": [
    "#Plotting loss by epoch\n",
    "\n",
    "graphs.plot_loss(vgghist.history)"
   ]
  },
  {
   "cell_type": "code",
   "execution_count": null,
   "metadata": {},
   "outputs": [],
   "source": [
    "# Generating a confusion matrix from the model predictions\n",
    "\n",
    "predictions = get_labels(vggmodel, X_test, 0.5)\n",
    "graphs.plot_cmatrix(y_test, predictions)"
   ]
  },
  {
   "source": [
    "### DenseNet121"
   ],
   "cell_type": "markdown",
   "metadata": {}
  },
  {
   "cell_type": "code",
   "execution_count": null,
   "metadata": {},
   "outputs": [],
   "source": [
    "densebase = tf.keras.applications.DenseNet121(\n",
    "    include_top=False,\n",
    "    weights=\"imagenet\",\n",
    "    input_tensor=None,\n",
    "    input_shape=(224,224,3),\n",
    "    pooling='Max',\n",
    "    classes=2,)\n",
    "\n",
    "for layer in densebase.layers:\n",
    "    layer.trainable = False\n",
    "\n",
    "callback = tf.keras.callbacks.EarlyStopping(monitor='loss', patience=3)\n",
    "\n",
    "# Flatten the output layer to 1 dimension\n",
    "a = layers.Flatten()(densebase.output)\n",
    "\n",
    "# Add a fully connected layer with 512 hidden units and ReLU activation\n",
    "a = layers.Dense(512, activation='relu')(a)\n",
    "\n",
    "# Add a dropout rate of 0.5\n",
    "a = layers.Dropout(0.5)(a)\n",
    "\n",
    "# Add a second fully connected layer with 256 hidden units and ReLU activation\n",
    "a = layers.Dense(256, activation='relu')(a)\n",
    "\n",
    "a = layers.Dropout(.3)(a)\n",
    "# Add a final sigmoid layer for classification\n",
    "a = layers.Dense(1, activation='sigmoid')(a)\n",
    "\n",
    "densemodel = tf.keras.models.Model(densebase.input, a)\n",
    "\n",
    "densemodel.compile(optimizer = 'Adam', loss = 'binary_crossentropy',metrics = ['acc', 'Recall', 'AUC'])\n",
    "\n",
    "densehist = densemodel.fit(X_train, y_train, validation_data = (X_val, y_val), epochs = 25, batch_size=25, class_weight=weights)"
   ]
  },
  {
   "cell_type": "code",
   "execution_count": null,
   "metadata": {},
   "outputs": [],
   "source": [
    "results_test4 = densemodel.evaluate(X_test, y_test)"
   ]
  },
  {
   "cell_type": "code",
   "execution_count": null,
   "metadata": {},
   "outputs": [],
   "source": [
    "# Plotting loss by epoch\n",
    "\n",
    "graphs.plot_loss(densehist.history)"
   ]
  },
  {
   "cell_type": "code",
   "execution_count": null,
   "metadata": {},
   "outputs": [],
   "source": [
    "# Generating a confusion matrix from the model predictions\n",
    "\n",
    "predictions = get_labels(densemodel, X_test, 0.5)\n",
    "graphs.plot_cmatrix(y_test, predictions)"
   ]
  },
  {
   "source": [
    "### MobileNetV2"
   ],
   "cell_type": "markdown",
   "metadata": {}
  },
  {
   "cell_type": "code",
   "execution_count": null,
   "metadata": {},
   "outputs": [],
   "source": [
    "mobile = tf.keras.applications.MobileNetV2(\n",
    "                input_shape=(224, 224, 3), \n",
    "                alpha=1.0, \n",
    "                include_top=False, \n",
    "                weights='imagenet',\n",
    "                input_tensor=None, \n",
    "                pooling='max', \n",
    "                classes=2)\n",
    "\n",
    "for layer in mobile.layers:\n",
    "    layer.trainable = False\n",
    "\n",
    "callback = tf.keras.callbacks.EarlyStopping(monitor='loss', patience=3)\n",
    "\n",
    "# Flatten the output layer to 1 dimension\n",
    "a = layers.Flatten()(mobile.output)\n",
    "\n",
    "# Add a fully connected layer with 512 hidden units and ReLU activation\n",
    "a = layers.Dense(512, activation='relu')(a)\n",
    "\n",
    "# Add a dropout rate of 0.5\n",
    "a = layers.Dropout(0.5)(a)\n",
    "\n",
    "# Add a second fully connected layer with 256 hidden units and ReLU activation\n",
    "a = layers.Dense(256, activation='relu')(a)\n",
    "\n",
    "a = layers.Dropout(.3)(a)\n",
    "# Add a final sigmoid layer for classification\n",
    "a = layers.Dense(1, activation='sigmoid')(a)\n",
    "\n",
    "mobilemodel = tf.keras.models.Model(mobile.input, a)\n",
    "\n",
    "mobilemodel.compile(optimizer = 'Adam', loss = 'binary_crossentropy',metrics = ['acc', 'Recall', 'AUC'])\n",
    "\n",
    "mobilehist = mobilemodel.fit(X_train, y_train, validation_data = (X_val, y_val), epochs = 20, batch_size=25, class_weight=weights)"
   ]
  },
  {
   "cell_type": "code",
   "execution_count": null,
   "metadata": {},
   "outputs": [],
   "source": [
    "mobile_test = mobilemodel.evaluate(X_test, y_test)"
   ]
  },
  {
   "cell_type": "code",
   "execution_count": null,
   "metadata": {},
   "outputs": [],
   "source": [
    "# Plotting loss by epoch\n",
    "\n",
    "graphs.plot_loss(mobilehist.history)"
   ]
  },
  {
   "cell_type": "code",
   "execution_count": null,
   "metadata": {},
   "outputs": [],
   "source": [
    "# Generating a confusion matrix from the model predictions\n",
    "\n",
    "predictions = get_labels(mobilemodel, X_test, 0.5)\n",
    "graphs.plot_cmatrix(y_test, predictions)"
   ]
  }
 ]
}